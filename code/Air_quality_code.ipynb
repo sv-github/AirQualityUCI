{
 "cells": [
  {
   "cell_type": "markdown",
   "metadata": {},
   "source": [
    "## Air Quality Data,  Clustering Analysis, investigation"
   ]
  },
  {
   "cell_type": "code",
   "execution_count": 7,
   "metadata": {
    "collapsed": false
   },
   "outputs": [],
   "source": [
    "# Air Quality Data from UCI Repository. 15 Attributes/features (index 0-14)\n",
    "#      available from: https://archive.ics.uci.edu/ml/datasets/Air+Quality\n",
    "\n",
    "# Use %matplotlib notebook instead of %matplotlib inline to get embedded interactive figures\n",
    "\n",
    "%matplotlib inline         \n",
    "import numpy as np\n",
    "import scipy as sp\n",
    "import pandas as pd\n",
    "import matplotlib.pyplot as plt\n",
    "import sklearn.cluster as sk\n",
    "from sklearn.model_selection import GridSearchCV, cross_val_score\n",
    "                                #%matplotlib inline -- show plots in the lines of the jupyter notebook"
   ]
  },
  {
   "cell_type": "code",
   "execution_count": 8,
   "metadata": {
    "collapsed": false
   },
   "outputs": [
    {
     "data": {
      "text/html": [
       "<div>\n",
       "<table border=\"1\" class=\"dataframe\">\n",
       "  <thead>\n",
       "    <tr style=\"text-align: right;\">\n",
       "      <th></th>\n",
       "      <th>Date</th>\n",
       "      <th>Time</th>\n",
       "      <th>CO(GT)</th>\n",
       "      <th>PT08.S1(CO)</th>\n",
       "      <th>NMHC(GT)</th>\n",
       "      <th>C6H6(GT)</th>\n",
       "      <th>PT08.S2(NMHC)</th>\n",
       "      <th>NOx(GT)</th>\n",
       "      <th>PT08.S3(NOx)</th>\n",
       "      <th>NO2(GT)</th>\n",
       "      <th>PT08.S4(NO2)</th>\n",
       "      <th>PT08.S5(O3)</th>\n",
       "      <th>T</th>\n",
       "      <th>RH</th>\n",
       "      <th>AH</th>\n",
       "    </tr>\n",
       "  </thead>\n",
       "  <tbody>\n",
       "    <tr>\n",
       "      <th>0</th>\n",
       "      <td>2004-03-10</td>\n",
       "      <td>18:00:00</td>\n",
       "      <td>2.6</td>\n",
       "      <td>1360.00</td>\n",
       "      <td>150.0</td>\n",
       "      <td>11.881723</td>\n",
       "      <td>1045.50</td>\n",
       "      <td>166.0</td>\n",
       "      <td>1056.25</td>\n",
       "      <td>113.0</td>\n",
       "      <td>1692.00</td>\n",
       "      <td>1267.50</td>\n",
       "      <td>13.60</td>\n",
       "      <td>48.875001</td>\n",
       "      <td>0.757754</td>\n",
       "    </tr>\n",
       "    <tr>\n",
       "      <th>1</th>\n",
       "      <td>2004-03-10</td>\n",
       "      <td>19:00:00</td>\n",
       "      <td>2.0</td>\n",
       "      <td>1292.25</td>\n",
       "      <td>112.0</td>\n",
       "      <td>9.397165</td>\n",
       "      <td>954.75</td>\n",
       "      <td>103.0</td>\n",
       "      <td>1173.75</td>\n",
       "      <td>92.0</td>\n",
       "      <td>1558.75</td>\n",
       "      <td>972.25</td>\n",
       "      <td>13.30</td>\n",
       "      <td>47.700000</td>\n",
       "      <td>0.725487</td>\n",
       "    </tr>\n",
       "    <tr>\n",
       "      <th>2</th>\n",
       "      <td>2004-03-10</td>\n",
       "      <td>20:00:00</td>\n",
       "      <td>2.2</td>\n",
       "      <td>1402.00</td>\n",
       "      <td>88.0</td>\n",
       "      <td>8.997817</td>\n",
       "      <td>939.25</td>\n",
       "      <td>131.0</td>\n",
       "      <td>1140.00</td>\n",
       "      <td>114.0</td>\n",
       "      <td>1554.50</td>\n",
       "      <td>1074.00</td>\n",
       "      <td>11.90</td>\n",
       "      <td>53.975000</td>\n",
       "      <td>0.750239</td>\n",
       "    </tr>\n",
       "    <tr>\n",
       "      <th>3</th>\n",
       "      <td>2004-03-10</td>\n",
       "      <td>21:00:00</td>\n",
       "      <td>2.2</td>\n",
       "      <td>1375.50</td>\n",
       "      <td>80.0</td>\n",
       "      <td>9.228796</td>\n",
       "      <td>948.25</td>\n",
       "      <td>172.0</td>\n",
       "      <td>1092.00</td>\n",
       "      <td>122.0</td>\n",
       "      <td>1583.75</td>\n",
       "      <td>1203.25</td>\n",
       "      <td>11.00</td>\n",
       "      <td>60.000000</td>\n",
       "      <td>0.786713</td>\n",
       "    </tr>\n",
       "    <tr>\n",
       "      <th>4</th>\n",
       "      <td>2004-03-10</td>\n",
       "      <td>22:00:00</td>\n",
       "      <td>1.6</td>\n",
       "      <td>1272.25</td>\n",
       "      <td>51.0</td>\n",
       "      <td>6.518224</td>\n",
       "      <td>835.50</td>\n",
       "      <td>131.0</td>\n",
       "      <td>1205.00</td>\n",
       "      <td>116.0</td>\n",
       "      <td>1490.00</td>\n",
       "      <td>1110.00</td>\n",
       "      <td>11.15</td>\n",
       "      <td>59.575001</td>\n",
       "      <td>0.788794</td>\n",
       "    </tr>\n",
       "  </tbody>\n",
       "</table>\n",
       "</div>"
      ],
      "text/plain": [
       "        Date      Time  CO(GT)  PT08.S1(CO)  NMHC(GT)   C6H6(GT)  \\\n",
       "0 2004-03-10  18:00:00     2.6      1360.00     150.0  11.881723   \n",
       "1 2004-03-10  19:00:00     2.0      1292.25     112.0   9.397165   \n",
       "2 2004-03-10  20:00:00     2.2      1402.00      88.0   8.997817   \n",
       "3 2004-03-10  21:00:00     2.2      1375.50      80.0   9.228796   \n",
       "4 2004-03-10  22:00:00     1.6      1272.25      51.0   6.518224   \n",
       "\n",
       "   PT08.S2(NMHC)  NOx(GT)  PT08.S3(NOx)  NO2(GT)  PT08.S4(NO2)  PT08.S5(O3)  \\\n",
       "0        1045.50    166.0       1056.25    113.0       1692.00      1267.50   \n",
       "1         954.75    103.0       1173.75     92.0       1558.75       972.25   \n",
       "2         939.25    131.0       1140.00    114.0       1554.50      1074.00   \n",
       "3         948.25    172.0       1092.00    122.0       1583.75      1203.25   \n",
       "4         835.50    131.0       1205.00    116.0       1490.00      1110.00   \n",
       "\n",
       "       T         RH        AH  \n",
       "0  13.60  48.875001  0.757754  \n",
       "1  13.30  47.700000  0.725487  \n",
       "2  11.90  53.975000  0.750239  \n",
       "3  11.00  60.000000  0.786713  \n",
       "4  11.15  59.575001  0.788794  "
      ]
     },
     "execution_count": 8,
     "metadata": {},
     "output_type": "execute_result"
    }
   ],
   "source": [
    "data = pd.read_excel(\"../AirQualityUCI.xlsx\")      #, delimiter=\";\"  Using .csv i had 2,6 instead of 2.6 as CO value\n",
    "data.head()\n",
    "\n",
    "data = data.iloc[:,0:15]   #include columns 1-15, excluding last two columns of NaNs\n",
    "data.head()\n",
    "#data.info            #8,357 from the xlsx file (9471rows from the csv file, the last rows were empty, had ;;;; entries)\n",
    "\n",
    "# data.dtypes         # NMHC(GT)  -  int64\n",
    "\n",
    "data['NMHC(GT)'] = data['NMHC(GT)'].astype('float')    # convert to float\n",
    "data.head()"
   ]
  },
  {
   "cell_type": "code",
   "execution_count": 9,
   "metadata": {
    "collapsed": false
   },
   "outputs": [
    {
     "data": {
      "text/plain": [
       "<matplotlib.collections.PathCollection at 0xd453470>"
      ]
     },
     "execution_count": 9,
     "metadata": {},
     "output_type": "execute_result"
    },
    {
     "data": {
      "image/png": "[encoded data removed]",
      "text/plain": [
       "<matplotlib.figure.Figure at 0xb1abf28>"
      ]
     },
     "metadata": {},
     "output_type": "display_data"
    }
   ],
   "source": [
    "# plt.scatter(data['PT08.S1(CO)'],data['NMHC(GT)'])              # using matplotlib (x and ylabels aren't seen)\n",
    "\n",
    "data_nona = data.dropna()                   # may not be needed for the xlsx file\n",
    "\n",
    "#data_nona.loc[:,'NMHC(GT)']                  #data_nona[['']] is a dataframe,  data_nona[''] is an array\n",
    "\n",
    "# data_nona.plot(kind='scatter',x='PT08.S1(CO)',y='NMHC(GT)')        # pandas plot, x,y= specify column name\n",
    "                                                                   # missing values have a value of -200\n",
    "\n",
    "plt.scatter(data_nona.iloc[:,3],data_nona.iloc[:,4])    \n",
    "#data_nona.info          #9357 rows with NaNs removed (same as with the data df)"
   ]
  },
  {
   "cell_type": "code",
   "execution_count": 10,
   "metadata": {
    "collapsed": false
   },
   "outputs": [
    {
     "data": {
      "text/html": [
       "<div>\n",
       "<table border=\"1\" class=\"dataframe\">\n",
       "  <thead>\n",
       "    <tr style=\"text-align: right;\">\n",
       "      <th></th>\n",
       "      <th>CO(GT)</th>\n",
       "      <th>PT08.S1(CO)</th>\n",
       "      <th>NMHC(GT)</th>\n",
       "      <th>C6H6(GT)</th>\n",
       "      <th>PT08.S2(NMHC)</th>\n",
       "      <th>NOx(GT)</th>\n",
       "      <th>PT08.S3(NOx)</th>\n",
       "      <th>NO2(GT)</th>\n",
       "    </tr>\n",
       "  </thead>\n",
       "  <tbody>\n",
       "    <tr>\n",
       "      <th>0</th>\n",
       "      <td>2.6</td>\n",
       "      <td>1360.00</td>\n",
       "      <td>150.0</td>\n",
       "      <td>11.881723</td>\n",
       "      <td>1045.50</td>\n",
       "      <td>166.000000</td>\n",
       "      <td>1056.25</td>\n",
       "      <td>113.000000</td>\n",
       "    </tr>\n",
       "    <tr>\n",
       "      <th>1</th>\n",
       "      <td>2.0</td>\n",
       "      <td>1292.25</td>\n",
       "      <td>112.0</td>\n",
       "      <td>9.397165</td>\n",
       "      <td>954.75</td>\n",
       "      <td>103.000000</td>\n",
       "      <td>1173.75</td>\n",
       "      <td>92.000000</td>\n",
       "    </tr>\n",
       "    <tr>\n",
       "      <th>2</th>\n",
       "      <td>2.2</td>\n",
       "      <td>1402.00</td>\n",
       "      <td>88.0</td>\n",
       "      <td>8.997817</td>\n",
       "      <td>939.25</td>\n",
       "      <td>131.000000</td>\n",
       "      <td>1140.00</td>\n",
       "      <td>114.000000</td>\n",
       "    </tr>\n",
       "    <tr>\n",
       "      <th>3</th>\n",
       "      <td>2.2</td>\n",
       "      <td>1375.50</td>\n",
       "      <td>80.0</td>\n",
       "      <td>9.228796</td>\n",
       "      <td>948.25</td>\n",
       "      <td>172.000000</td>\n",
       "      <td>1092.00</td>\n",
       "      <td>122.000000</td>\n",
       "    </tr>\n",
       "    <tr>\n",
       "      <th>4</th>\n",
       "      <td>1.6</td>\n",
       "      <td>1272.25</td>\n",
       "      <td>51.0</td>\n",
       "      <td>6.518224</td>\n",
       "      <td>835.50</td>\n",
       "      <td>131.000000</td>\n",
       "      <td>1205.00</td>\n",
       "      <td>116.000000</td>\n",
       "    </tr>\n",
       "    <tr>\n",
       "      <th>5</th>\n",
       "      <td>1.2</td>\n",
       "      <td>1197.00</td>\n",
       "      <td>38.0</td>\n",
       "      <td>4.741012</td>\n",
       "      <td>750.25</td>\n",
       "      <td>89.000000</td>\n",
       "      <td>1336.50</td>\n",
       "      <td>96.000000</td>\n",
       "    </tr>\n",
       "    <tr>\n",
       "      <th>6</th>\n",
       "      <td>1.2</td>\n",
       "      <td>1185.00</td>\n",
       "      <td>31.0</td>\n",
       "      <td>3.624399</td>\n",
       "      <td>689.50</td>\n",
       "      <td>62.000000</td>\n",
       "      <td>1461.75</td>\n",
       "      <td>77.000000</td>\n",
       "    </tr>\n",
       "    <tr>\n",
       "      <th>7</th>\n",
       "      <td>1.0</td>\n",
       "      <td>1136.25</td>\n",
       "      <td>31.0</td>\n",
       "      <td>3.326677</td>\n",
       "      <td>672.00</td>\n",
       "      <td>62.000000</td>\n",
       "      <td>1453.25</td>\n",
       "      <td>76.000000</td>\n",
       "    </tr>\n",
       "    <tr>\n",
       "      <th>8</th>\n",
       "      <td>0.9</td>\n",
       "      <td>1094.00</td>\n",
       "      <td>24.0</td>\n",
       "      <td>2.339416</td>\n",
       "      <td>608.50</td>\n",
       "      <td>45.000000</td>\n",
       "      <td>1579.00</td>\n",
       "      <td>60.000000</td>\n",
       "    </tr>\n",
       "    <tr>\n",
       "      <th>9</th>\n",
       "      <td>0.6</td>\n",
       "      <td>1009.75</td>\n",
       "      <td>19.0</td>\n",
       "      <td>1.696658</td>\n",
       "      <td>560.75</td>\n",
       "      <td>106.777778</td>\n",
       "      <td>1705.00</td>\n",
       "      <td>96.222222</td>\n",
       "    </tr>\n",
       "  </tbody>\n",
       "</table>\n",
       "</div>"
      ],
      "text/plain": [
       "   CO(GT)  PT08.S1(CO)  NMHC(GT)   C6H6(GT)  PT08.S2(NMHC)     NOx(GT)  \\\n",
       "0     2.6      1360.00     150.0  11.881723        1045.50  166.000000   \n",
       "1     2.0      1292.25     112.0   9.397165         954.75  103.000000   \n",
       "2     2.2      1402.00      88.0   8.997817         939.25  131.000000   \n",
       "3     2.2      1375.50      80.0   9.228796         948.25  172.000000   \n",
       "4     1.6      1272.25      51.0   6.518224         835.50  131.000000   \n",
       "5     1.2      1197.00      38.0   4.741012         750.25   89.000000   \n",
       "6     1.2      1185.00      31.0   3.624399         689.50   62.000000   \n",
       "7     1.0      1136.25      31.0   3.326677         672.00   62.000000   \n",
       "8     0.9      1094.00      24.0   2.339416         608.50   45.000000   \n",
       "9     0.6      1009.75      19.0   1.696658         560.75  106.777778   \n",
       "\n",
       "   PT08.S3(NOx)     NO2(GT)  \n",
       "0       1056.25  113.000000  \n",
       "1       1173.75   92.000000  \n",
       "2       1140.00  114.000000  \n",
       "3       1092.00  122.000000  \n",
       "4       1205.00  116.000000  \n",
       "5       1336.50   96.000000  \n",
       "6       1461.75   77.000000  \n",
       "7       1453.25   76.000000  \n",
       "8       1579.00   60.000000  \n",
       "9       1705.00   96.222222  "
      ]
     },
     "execution_count": 10,
     "metadata": {},
     "output_type": "execute_result"
    }
   ],
   "source": [
    "# fill missing values with mean of column\n",
    "# data_nona[data_nona==-200]         # 9th row has -200 values for NOx(GT) and NO2(GT)\n",
    "\n",
    "data_nona.iloc[0:10,0:10]\n",
    "\n",
    "# testing NaNs substitution for -200s with a smaller dataframe\n",
    "data_sm = data_nona.iloc[0:10,2:10]\n",
    "data_sm.dtypes             # NMHC int64\n",
    "data_sm['NMHC(GT)'] = data_sm['NMHC(GT)'].astype('float')    # convert to float\n",
    "data_sm.dtypes\n",
    "\n",
    "data_sm[ data_sm==-200] = np.nan         # replacing works when the types are all float -v'\n",
    "                                        # string 'nan' turns into NaN when array is type float. Have DFrame though\n",
    "\n",
    "# data_sm.replace(float(89),float(2))\n",
    "data_sm                             # or can use: DataFrame.replace(to_replace=None, value=None)\n",
    "                                    # didnt work with replacing floats\n",
    "\n",
    "\n",
    "# type(data_sm[data_sm==-200])  # dataframe type\n",
    "\n",
    "\n",
    "#replace -200s with NaN, and then use fillna with mean\n",
    "data_sm.fillna(data_sm.mean())\n"
   ]
  },
  {
   "cell_type": "code",
   "execution_count": 11,
   "metadata": {
    "collapsed": true
   },
   "outputs": [],
   "source": [
    "# s = pd.Series(range(-3, 4))            # testing the replace method\n",
    "\n",
    "# s2 = s.to_frame()\n",
    "# s2\n",
    "# s2[s2==0] = 2           # replacement works here\n",
    "# s2\n",
    "\n",
    "# s2.replace(-3,-33)      # replace works with ints (may be more difficult for floats)"
   ]
  },
  {
   "cell_type": "code",
   "execution_count": 12,
   "metadata": {
    "collapsed": false
   },
   "outputs": [
    {
     "data": {
      "text/html": [
       "<div>\n",
       "<table border=\"1\" class=\"dataframe\">\n",
       "  <thead>\n",
       "    <tr style=\"text-align: right;\">\n",
       "      <th></th>\n",
       "      <th>CO(GT)</th>\n",
       "      <th>PT08.S1(CO)</th>\n",
       "      <th>NMHC(GT)</th>\n",
       "      <th>C6H6(GT)</th>\n",
       "      <th>PT08.S2(NMHC)</th>\n",
       "      <th>NOx(GT)</th>\n",
       "      <th>PT08.S3(NOx)</th>\n",
       "      <th>NO2(GT)</th>\n",
       "      <th>PT08.S4(NO2)</th>\n",
       "      <th>PT08.S5(O3)</th>\n",
       "      <th>T</th>\n",
       "      <th>RH</th>\n",
       "      <th>AH</th>\n",
       "    </tr>\n",
       "  </thead>\n",
       "  <tbody>\n",
       "    <tr>\n",
       "      <th>0</th>\n",
       "      <td>2.6</td>\n",
       "      <td>1360.00</td>\n",
       "      <td>150.0</td>\n",
       "      <td>11.881723</td>\n",
       "      <td>1045.50</td>\n",
       "      <td>166.000000</td>\n",
       "      <td>1056.25</td>\n",
       "      <td>113.000000</td>\n",
       "      <td>1692.00</td>\n",
       "      <td>1267.50</td>\n",
       "      <td>13.600</td>\n",
       "      <td>48.875001</td>\n",
       "      <td>0.757754</td>\n",
       "    </tr>\n",
       "    <tr>\n",
       "      <th>1</th>\n",
       "      <td>2.0</td>\n",
       "      <td>1292.25</td>\n",
       "      <td>112.0</td>\n",
       "      <td>9.397165</td>\n",
       "      <td>954.75</td>\n",
       "      <td>103.000000</td>\n",
       "      <td>1173.75</td>\n",
       "      <td>92.000000</td>\n",
       "      <td>1558.75</td>\n",
       "      <td>972.25</td>\n",
       "      <td>13.300</td>\n",
       "      <td>47.700000</td>\n",
       "      <td>0.725487</td>\n",
       "    </tr>\n",
       "    <tr>\n",
       "      <th>2</th>\n",
       "      <td>2.2</td>\n",
       "      <td>1402.00</td>\n",
       "      <td>88.0</td>\n",
       "      <td>8.997817</td>\n",
       "      <td>939.25</td>\n",
       "      <td>131.000000</td>\n",
       "      <td>1140.00</td>\n",
       "      <td>114.000000</td>\n",
       "      <td>1554.50</td>\n",
       "      <td>1074.00</td>\n",
       "      <td>11.900</td>\n",
       "      <td>53.975000</td>\n",
       "      <td>0.750239</td>\n",
       "    </tr>\n",
       "    <tr>\n",
       "      <th>3</th>\n",
       "      <td>2.2</td>\n",
       "      <td>1375.50</td>\n",
       "      <td>80.0</td>\n",
       "      <td>9.228796</td>\n",
       "      <td>948.25</td>\n",
       "      <td>172.000000</td>\n",
       "      <td>1092.00</td>\n",
       "      <td>122.000000</td>\n",
       "      <td>1583.75</td>\n",
       "      <td>1203.25</td>\n",
       "      <td>11.000</td>\n",
       "      <td>60.000000</td>\n",
       "      <td>0.786713</td>\n",
       "    </tr>\n",
       "    <tr>\n",
       "      <th>4</th>\n",
       "      <td>1.6</td>\n",
       "      <td>1272.25</td>\n",
       "      <td>51.0</td>\n",
       "      <td>6.518224</td>\n",
       "      <td>835.50</td>\n",
       "      <td>131.000000</td>\n",
       "      <td>1205.00</td>\n",
       "      <td>116.000000</td>\n",
       "      <td>1490.00</td>\n",
       "      <td>1110.00</td>\n",
       "      <td>11.150</td>\n",
       "      <td>59.575001</td>\n",
       "      <td>0.788794</td>\n",
       "    </tr>\n",
       "    <tr>\n",
       "      <th>5</th>\n",
       "      <td>1.2</td>\n",
       "      <td>1197.00</td>\n",
       "      <td>38.0</td>\n",
       "      <td>4.741012</td>\n",
       "      <td>750.25</td>\n",
       "      <td>89.000000</td>\n",
       "      <td>1336.50</td>\n",
       "      <td>96.000000</td>\n",
       "      <td>1393.00</td>\n",
       "      <td>949.25</td>\n",
       "      <td>11.175</td>\n",
       "      <td>59.175000</td>\n",
       "      <td>0.784772</td>\n",
       "    </tr>\n",
       "    <tr>\n",
       "      <th>6</th>\n",
       "      <td>1.2</td>\n",
       "      <td>1185.00</td>\n",
       "      <td>31.0</td>\n",
       "      <td>3.624399</td>\n",
       "      <td>689.50</td>\n",
       "      <td>62.000000</td>\n",
       "      <td>1461.75</td>\n",
       "      <td>77.000000</td>\n",
       "      <td>1332.75</td>\n",
       "      <td>732.50</td>\n",
       "      <td>11.325</td>\n",
       "      <td>56.775000</td>\n",
       "      <td>0.760312</td>\n",
       "    </tr>\n",
       "    <tr>\n",
       "      <th>7</th>\n",
       "      <td>1.0</td>\n",
       "      <td>1136.25</td>\n",
       "      <td>31.0</td>\n",
       "      <td>3.326677</td>\n",
       "      <td>672.00</td>\n",
       "      <td>62.000000</td>\n",
       "      <td>1453.25</td>\n",
       "      <td>76.000000</td>\n",
       "      <td>1332.75</td>\n",
       "      <td>729.50</td>\n",
       "      <td>10.675</td>\n",
       "      <td>60.000000</td>\n",
       "      <td>0.770238</td>\n",
       "    </tr>\n",
       "    <tr>\n",
       "      <th>8</th>\n",
       "      <td>0.9</td>\n",
       "      <td>1094.00</td>\n",
       "      <td>24.0</td>\n",
       "      <td>2.339416</td>\n",
       "      <td>608.50</td>\n",
       "      <td>45.000000</td>\n",
       "      <td>1579.00</td>\n",
       "      <td>60.000000</td>\n",
       "      <td>1276.00</td>\n",
       "      <td>619.50</td>\n",
       "      <td>10.650</td>\n",
       "      <td>59.674999</td>\n",
       "      <td>0.764819</td>\n",
       "    </tr>\n",
       "    <tr>\n",
       "      <th>9</th>\n",
       "      <td>0.6</td>\n",
       "      <td>1009.75</td>\n",
       "      <td>19.0</td>\n",
       "      <td>1.696658</td>\n",
       "      <td>560.75</td>\n",
       "      <td>246.881252</td>\n",
       "      <td>1705.00</td>\n",
       "      <td>113.075515</td>\n",
       "      <td>1234.75</td>\n",
       "      <td>501.25</td>\n",
       "      <td>10.250</td>\n",
       "      <td>60.200001</td>\n",
       "      <td>0.751657</td>\n",
       "    </tr>\n",
       "  </tbody>\n",
       "</table>\n",
       "</div>"
      ],
      "text/plain": [
       "   CO(GT)  PT08.S1(CO)  NMHC(GT)   C6H6(GT)  PT08.S2(NMHC)     NOx(GT)  \\\n",
       "0     2.6      1360.00     150.0  11.881723        1045.50  166.000000   \n",
       "1     2.0      1292.25     112.0   9.397165         954.75  103.000000   \n",
       "2     2.2      1402.00      88.0   8.997817         939.25  131.000000   \n",
       "3     2.2      1375.50      80.0   9.228796         948.25  172.000000   \n",
       "4     1.6      1272.25      51.0   6.518224         835.50  131.000000   \n",
       "5     1.2      1197.00      38.0   4.741012         750.25   89.000000   \n",
       "6     1.2      1185.00      31.0   3.624399         689.50   62.000000   \n",
       "7     1.0      1136.25      31.0   3.326677         672.00   62.000000   \n",
       "8     0.9      1094.00      24.0   2.339416         608.50   45.000000   \n",
       "9     0.6      1009.75      19.0   1.696658         560.75  246.881252   \n",
       "\n",
       "   PT08.S3(NOx)     NO2(GT)  PT08.S4(NO2)  PT08.S5(O3)       T         RH  \\\n",
       "0       1056.25  113.000000       1692.00      1267.50  13.600  48.875001   \n",
       "1       1173.75   92.000000       1558.75       972.25  13.300  47.700000   \n",
       "2       1140.00  114.000000       1554.50      1074.00  11.900  53.975000   \n",
       "3       1092.00  122.000000       1583.75      1203.25  11.000  60.000000   \n",
       "4       1205.00  116.000000       1490.00      1110.00  11.150  59.575001   \n",
       "5       1336.50   96.000000       1393.00       949.25  11.175  59.175000   \n",
       "6       1461.75   77.000000       1332.75       732.50  11.325  56.775000   \n",
       "7       1453.25   76.000000       1332.75       729.50  10.675  60.000000   \n",
       "8       1579.00   60.000000       1276.00       619.50  10.650  59.674999   \n",
       "9       1705.00  113.075515       1234.75       501.25  10.250  60.200001   \n",
       "\n",
       "         AH  \n",
       "0  0.757754  \n",
       "1  0.725487  \n",
       "2  0.750239  \n",
       "3  0.786713  \n",
       "4  0.788794  \n",
       "5  0.784772  \n",
       "6  0.760312  \n",
       "7  0.770238  \n",
       "8  0.764819  \n",
       "9  0.751657  "
      ]
     },
     "execution_count": 12,
     "metadata": {},
     "output_type": "execute_result"
    }
   ],
   "source": [
    "# for loop going thru columns and replacing -200 with np.nan\n",
    "\n",
    "data_nona.head()\n",
    "\n",
    "                                            # data_nona.iloc[1,:].size    # size of series\n",
    "# range(1,data_nona.iloc[1,:].size)         # not needed for replacing -200s\n",
    "# for i in range(2,data_nona.iloc[1,:].size):\n",
    "#     data_nona.iloc[:,i] \n",
    "\n",
    "data_nona[data_nona==-200] = np.nan\n",
    "\n",
    "# data_nona.iloc[0:10,2:15]                      # -200s replaced -v'\n",
    "    \n",
    "data_filled = data_nona.fillna(data_nona.mean()) # fill NaNs with the column mean\n",
    "\n",
    "data_filled.iloc[0:10,2:15]         \n",
    "    "
   ]
  },
  {
   "cell_type": "code",
   "execution_count": 13,
   "metadata": {
    "collapsed": true
   },
   "outputs": [],
   "source": [
    "# combine the data and time variabled into one variable \"time\""
   ]
  },
  {
   "cell_type": "code",
   "execution_count": 14,
   "metadata": {
    "collapsed": false
   },
   "outputs": [],
   "source": [
    "#clustering using kmeans in sk learn            http://scikit-learn.org/stable/modules/generated/sklearn.cluster.KMeans.html#sklearn.cluster.KMeans\n",
    "# sklearn.cluster.KMeans(n_clusters=8, init='k-means++',\n",
    "               \n",
    "X = data_filled.iloc[:,2:] #.get_values() #(not needed, but useful for X[:,1] below)    # excluding date-time values\n",
    "# X.dtypes\n",
    "\n",
    "mdl = sk.KMeans(n_clusters=2).fit(X)            # fit the data with 2 clusters, creating a model mdl\n",
    "# data_filled.iloc[1:3,2:].get_values()\n"
   ]
  },
  {
   "cell_type": "code",
   "execution_count": 15,
   "metadata": {
    "collapsed": false
   },
   "outputs": [
    {
     "data": {
      "text/plain": [
       "<matplotlib.text.Text at 0xceb58d0>"
      ]
     },
     "execution_count": 15,
     "metadata": {},
     "output_type": "execute_result"
    },
    {
     "data": {
      "image/png": "[encoded data removed]",
      "text/plain": [
       "<matplotlib.figure.Figure at 0xd1ef668>"
      ]
     },
     "metadata": {},
     "output_type": "display_data"
    }
   ],
   "source": [
    "# scatter plot with labels\n",
    "\n",
    "labels = mdl.labels_\n",
    "\n",
    "fig = plt.figure(figsize=(8,6))      # figure size\n",
    "\n",
    "# plt.scatter(X.iloc[:,0], X.iloc[:,1], c=labels.astype(np.float))     # 2d scatter plot with the 1st two columns\n",
    "plt.scatter(X.iloc[:,0], X.iloc[:,1], c=labels.astype(np.float))       # interactive scatter plot\n",
    "plt.xlabel('CO(GT)')\n",
    "plt.ylabel('PT08.S1(CO)')\n",
    "\n",
    "# x.scatter(X[:, 3], X[:, 0], X[:, 2], c=labels.astype(np.float))"
   ]
  },
  {
   "cell_type": "code",
   "execution_count": 10,
   "metadata": {
    "collapsed": false
   },
   "outputs": [
    {
     "data": {
      "text/plain": [
       "6083"
      ]
     },
     "execution_count": 10,
     "metadata": {},
     "output_type": "execute_result"
    }
   ],
   "source": [
    "X\n",
    "sum(mdl.labels_ ==1)                    # 3272 labels=0,  6083 lables=1"
   ]
  },
  {
   "cell_type": "code",
   "execution_count": 16,
   "metadata": {
    "collapsed": false
   },
   "outputs": [
    {
     "data": {
      "text/plain": [
       "<matplotlib.text.Text at 0xd2bcef0>"
      ]
     },
     "execution_count": 16,
     "metadata": {},
     "output_type": "execute_result"
    },
    {
     "data": {
      "image/png": "[encoded data removed]",
      "text/plain": [
       "<matplotlib.figure.Figure at 0xd1f4da0>"
      ]
     },
     "metadata": {},
     "output_type": "display_data"
    }
   ],
   "source": [
    "fig = plt.figure(figsize=(8,6))      # figure size\n",
    "\n",
    "# plt.scatter(X.iloc[:,0], X.iloc[:,1], c=labels.astype(np.float))     # 2d scatter plot with two columns\n",
    "plt.scatter(X.iloc[:,2], X.iloc[:,3], c=labels.astype(np.float))       # interactive scatter plot\n",
    "plt.xlabel('NMHC(GT)')             # NM values of 130 are the missing values from before. Data had a lot of -200s\n",
    "plt.ylabel('C6H6(GT)')\n"
   ]
  },
  {
   "cell_type": "code",
   "execution_count": 36,
   "metadata": {
    "collapsed": false
   },
   "outputs": [
    {
     "data": {
      "text/plain": [
       "array([[  3.39856490e-01,   1.22326506e+00,  -1.07742676e+00, ...,\n",
       "         -5.44708964e-01,  -2.10540710e-02,  -6.76519806e-01],\n",
       "       [ -1.16071260e-01,   9.04868178e-01,  -1.67241493e+00, ...,\n",
       "         -5.79359259e-01,  -9.02800995e-02,  -7.58038727e-01],\n",
       "       [  3.59046568e-02,   1.42064764e+00,  -2.04819694e+00, ...,\n",
       "         -7.41060642e-01,   2.79416024e-01,  -6.95505357e-01],\n",
       "       ..., \n",
       "       [  1.87880573e-01,   1.98755527e-01,  -8.90030578e-16, ...,\n",
       "          9.91454298e-01,  -1.81945624e+00,  -9.72378179e-01],\n",
       "       [ -4.00833014e-02,  -4.56836585e-01,  -8.90030578e-16, ...,\n",
       "          1.15604325e+00,  -2.10225164e+00,  -1.29268690e+00],\n",
       "       [  3.59046568e-02,  -1.36089907e-01,  -8.90030578e-16, ...,\n",
       "          1.17625600e+00,  -2.12729082e+00,  -1.32063487e+00]])"
      ]
     },
     "execution_count": 36,
     "metadata": {},
     "output_type": "execute_result"
    }
   ],
   "source": [
    "# zscore columns of data_filled\n",
    "data_z = sp.stats.zscore(data_filled.iloc[:,2:15])     # start at the 2nd index, 3rd column of data\n",
    "\n",
    "#data_z_frame = pd.DataFrame(data_z)          # convert array to dataframe\n",
    "\n",
    "data_z\n"
   ]
  },
  {
   "cell_type": "code",
   "execution_count": null,
   "metadata": {
    "collapsed": false
   },
   "outputs": [],
   "source": [
    "### try cross validation to select K, the number of means/classes\n",
    "\n",
    "# paper from cs 760 mentioned picking K where a curve of a measure begins to flatten\n",
    "\n",
    "# this gives practice on the sklearn CV method and the measures from the model.fit\n"
   ]
  },
  {
   "cell_type": "code",
   "execution_count": 30,
   "metadata": {
    "collapsed": true
   },
   "outputs": [],
   "source": [
    "from sklearn.metrics import calinski_harabaz_score, make_scorer\n",
    "    # used for gridsearc below"
   ]
  },
  {
   "cell_type": "code",
   "execution_count": 31,
   "metadata": {
    "collapsed": false
   },
   "outputs": [
    {
     "ename": "TypeError",
     "evalue": "__call__() takes at least 4 arguments (3 given)",
     "output_type": "error",
     "traceback": [
      "\u001b[1;31m---------------------------------------------------------------------------\u001b[0m",
      "\u001b[1;31mTypeError\u001b[0m                                 Traceback (most recent call last)",
      "\u001b[1;32m<ipython-input-31-9da728b26372>\u001b[0m in \u001b[0;36m<module>\u001b[1;34m()\u001b[0m\n\u001b[0;32m     14\u001b[0m \u001b[1;31m# grid = GridSearchCV(estimator=sk.KMeans(), param_grid=params)      # also works\u001b[0m\u001b[1;33m\u001b[0m\u001b[1;33m\u001b[0m\u001b[0m\n\u001b[0;32m     15\u001b[0m \u001b[1;33m\u001b[0m\u001b[0m\n\u001b[1;32m---> 16\u001b[1;33m \u001b[0mgrid\u001b[0m\u001b[1;33m.\u001b[0m\u001b[0mfit\u001b[0m\u001b[1;33m(\u001b[0m\u001b[0mX\u001b[0m\u001b[1;33m)\u001b[0m\u001b[1;33m\u001b[0m\u001b[0m\n\u001b[0m\u001b[0;32m     17\u001b[0m \u001b[1;33m\u001b[0m\u001b[0m\n\u001b[0;32m     18\u001b[0m \u001b[1;33m\u001b[0m\u001b[0m\n",
      "\u001b[1;32mC:\\Users\\SvyatV\\Anaconda2\\lib\\site-packages\\sklearn\\model_selection\\_search.pyc\u001b[0m in \u001b[0;36mfit\u001b[1;34m(self, X, y, groups)\u001b[0m\n\u001b[0;32m    938\u001b[0m             \u001b[0mtrain\u001b[0m\u001b[1;33m/\u001b[0m\u001b[0mtest\u001b[0m \u001b[0mset\u001b[0m\u001b[1;33m.\u001b[0m\u001b[1;33m\u001b[0m\u001b[0m\n\u001b[0;32m    939\u001b[0m         \"\"\"\n\u001b[1;32m--> 940\u001b[1;33m         \u001b[1;32mreturn\u001b[0m \u001b[0mself\u001b[0m\u001b[1;33m.\u001b[0m\u001b[0m_fit\u001b[0m\u001b[1;33m(\u001b[0m\u001b[0mX\u001b[0m\u001b[1;33m,\u001b[0m \u001b[0my\u001b[0m\u001b[1;33m,\u001b[0m \u001b[0mgroups\u001b[0m\u001b[1;33m,\u001b[0m \u001b[0mParameterGrid\u001b[0m\u001b[1;33m(\u001b[0m\u001b[0mself\u001b[0m\u001b[1;33m.\u001b[0m\u001b[0mparam_grid\u001b[0m\u001b[1;33m)\u001b[0m\u001b[1;33m)\u001b[0m\u001b[1;33m\u001b[0m\u001b[0m\n\u001b[0m\u001b[0;32m    941\u001b[0m \u001b[1;33m\u001b[0m\u001b[0m\n\u001b[0;32m    942\u001b[0m \u001b[1;33m\u001b[0m\u001b[0m\n",
      "\u001b[1;32mC:\\Users\\SvyatV\\Anaconda2\\lib\\site-packages\\sklearn\\model_selection\\_search.pyc\u001b[0m in \u001b[0;36m_fit\u001b[1;34m(self, X, y, groups, parameter_iterable)\u001b[0m\n\u001b[0;32m    560\u001b[0m                                   \u001b[0mreturn_times\u001b[0m\u001b[1;33m=\u001b[0m\u001b[0mTrue\u001b[0m\u001b[1;33m,\u001b[0m \u001b[0mreturn_parameters\u001b[0m\u001b[1;33m=\u001b[0m\u001b[0mTrue\u001b[0m\u001b[1;33m,\u001b[0m\u001b[1;33m\u001b[0m\u001b[0m\n\u001b[0;32m    561\u001b[0m                                   error_score=self.error_score)\n\u001b[1;32m--> 562\u001b[1;33m           \u001b[1;32mfor\u001b[0m \u001b[0mparameters\u001b[0m \u001b[1;32min\u001b[0m \u001b[0mparameter_iterable\u001b[0m\u001b[1;33m\u001b[0m\u001b[0m\n\u001b[0m\u001b[0;32m    563\u001b[0m           for train, test in cv.split(X, y, groups))\n\u001b[0;32m    564\u001b[0m \u001b[1;33m\u001b[0m\u001b[0m\n",
      "\u001b[1;32mC:\\Users\\SvyatV\\Anaconda2\\lib\\site-packages\\sklearn\\externals\\joblib\\parallel.pyc\u001b[0m in \u001b[0;36m__call__\u001b[1;34m(self, iterable)\u001b[0m\n\u001b[0;32m    756\u001b[0m             \u001b[1;31m# was dispatched. In particular this covers the edge\u001b[0m\u001b[1;33m\u001b[0m\u001b[1;33m\u001b[0m\u001b[0m\n\u001b[0;32m    757\u001b[0m             \u001b[1;31m# case of Parallel used with an exhausted iterator.\u001b[0m\u001b[1;33m\u001b[0m\u001b[1;33m\u001b[0m\u001b[0m\n\u001b[1;32m--> 758\u001b[1;33m             \u001b[1;32mwhile\u001b[0m \u001b[0mself\u001b[0m\u001b[1;33m.\u001b[0m\u001b[0mdispatch_one_batch\u001b[0m\u001b[1;33m(\u001b[0m\u001b[0miterator\u001b[0m\u001b[1;33m)\u001b[0m\u001b[1;33m:\u001b[0m\u001b[1;33m\u001b[0m\u001b[0m\n\u001b[0m\u001b[0;32m    759\u001b[0m                 \u001b[0mself\u001b[0m\u001b[1;33m.\u001b[0m\u001b[0m_iterating\u001b[0m \u001b[1;33m=\u001b[0m \u001b[0mTrue\u001b[0m\u001b[1;33m\u001b[0m\u001b[0m\n\u001b[0;32m    760\u001b[0m             \u001b[1;32melse\u001b[0m\u001b[1;33m:\u001b[0m\u001b[1;33m\u001b[0m\u001b[0m\n",
      "\u001b[1;32mC:\\Users\\SvyatV\\Anaconda2\\lib\\site-packages\\sklearn\\externals\\joblib\\parallel.pyc\u001b[0m in \u001b[0;36mdispatch_one_batch\u001b[1;34m(self, iterator)\u001b[0m\n\u001b[0;32m    606\u001b[0m                 \u001b[1;32mreturn\u001b[0m \u001b[0mFalse\u001b[0m\u001b[1;33m\u001b[0m\u001b[0m\n\u001b[0;32m    607\u001b[0m             \u001b[1;32melse\u001b[0m\u001b[1;33m:\u001b[0m\u001b[1;33m\u001b[0m\u001b[0m\n\u001b[1;32m--> 608\u001b[1;33m                 \u001b[0mself\u001b[0m\u001b[1;33m.\u001b[0m\u001b[0m_dispatch\u001b[0m\u001b[1;33m(\u001b[0m\u001b[0mtasks\u001b[0m\u001b[1;33m)\u001b[0m\u001b[1;33m\u001b[0m\u001b[0m\n\u001b[0m\u001b[0;32m    609\u001b[0m                 \u001b[1;32mreturn\u001b[0m \u001b[0mTrue\u001b[0m\u001b[1;33m\u001b[0m\u001b[0m\n\u001b[0;32m    610\u001b[0m \u001b[1;33m\u001b[0m\u001b[0m\n",
      "\u001b[1;32mC:\\Users\\SvyatV\\Anaconda2\\lib\\site-packages\\sklearn\\externals\\joblib\\parallel.pyc\u001b[0m in \u001b[0;36m_dispatch\u001b[1;34m(self, batch)\u001b[0m\n\u001b[0;32m    569\u001b[0m         \u001b[0mdispatch_timestamp\u001b[0m \u001b[1;33m=\u001b[0m \u001b[0mtime\u001b[0m\u001b[1;33m.\u001b[0m\u001b[0mtime\u001b[0m\u001b[1;33m(\u001b[0m\u001b[1;33m)\u001b[0m\u001b[1;33m\u001b[0m\u001b[0m\n\u001b[0;32m    570\u001b[0m         \u001b[0mcb\u001b[0m \u001b[1;33m=\u001b[0m \u001b[0mBatchCompletionCallBack\u001b[0m\u001b[1;33m(\u001b[0m\u001b[0mdispatch_timestamp\u001b[0m\u001b[1;33m,\u001b[0m \u001b[0mlen\u001b[0m\u001b[1;33m(\u001b[0m\u001b[0mbatch\u001b[0m\u001b[1;33m)\u001b[0m\u001b[1;33m,\u001b[0m \u001b[0mself\u001b[0m\u001b[1;33m)\u001b[0m\u001b[1;33m\u001b[0m\u001b[0m\n\u001b[1;32m--> 571\u001b[1;33m         \u001b[0mjob\u001b[0m \u001b[1;33m=\u001b[0m \u001b[0mself\u001b[0m\u001b[1;33m.\u001b[0m\u001b[0m_backend\u001b[0m\u001b[1;33m.\u001b[0m\u001b[0mapply_async\u001b[0m\u001b[1;33m(\u001b[0m\u001b[0mbatch\u001b[0m\u001b[1;33m,\u001b[0m \u001b[0mcallback\u001b[0m\u001b[1;33m=\u001b[0m\u001b[0mcb\u001b[0m\u001b[1;33m)\u001b[0m\u001b[1;33m\u001b[0m\u001b[0m\n\u001b[0m\u001b[0;32m    572\u001b[0m         \u001b[0mself\u001b[0m\u001b[1;33m.\u001b[0m\u001b[0m_jobs\u001b[0m\u001b[1;33m.\u001b[0m\u001b[0mappend\u001b[0m\u001b[1;33m(\u001b[0m\u001b[0mjob\u001b[0m\u001b[1;33m)\u001b[0m\u001b[1;33m\u001b[0m\u001b[0m\n\u001b[0;32m    573\u001b[0m \u001b[1;33m\u001b[0m\u001b[0m\n",
      "\u001b[1;32mC:\\Users\\SvyatV\\Anaconda2\\lib\\site-packages\\sklearn\\externals\\joblib\\_parallel_backends.pyc\u001b[0m in \u001b[0;36mapply_async\u001b[1;34m(self, func, callback)\u001b[0m\n\u001b[0;32m    107\u001b[0m     \u001b[1;32mdef\u001b[0m \u001b[0mapply_async\u001b[0m\u001b[1;33m(\u001b[0m\u001b[0mself\u001b[0m\u001b[1;33m,\u001b[0m \u001b[0mfunc\u001b[0m\u001b[1;33m,\u001b[0m \u001b[0mcallback\u001b[0m\u001b[1;33m=\u001b[0m\u001b[0mNone\u001b[0m\u001b[1;33m)\u001b[0m\u001b[1;33m:\u001b[0m\u001b[1;33m\u001b[0m\u001b[0m\n\u001b[0;32m    108\u001b[0m         \u001b[1;34m\"\"\"Schedule a func to be run\"\"\"\u001b[0m\u001b[1;33m\u001b[0m\u001b[0m\n\u001b[1;32m--> 109\u001b[1;33m         \u001b[0mresult\u001b[0m \u001b[1;33m=\u001b[0m \u001b[0mImmediateResult\u001b[0m\u001b[1;33m(\u001b[0m\u001b[0mfunc\u001b[0m\u001b[1;33m)\u001b[0m\u001b[1;33m\u001b[0m\u001b[0m\n\u001b[0m\u001b[0;32m    110\u001b[0m         \u001b[1;32mif\u001b[0m \u001b[0mcallback\u001b[0m\u001b[1;33m:\u001b[0m\u001b[1;33m\u001b[0m\u001b[0m\n\u001b[0;32m    111\u001b[0m             \u001b[0mcallback\u001b[0m\u001b[1;33m(\u001b[0m\u001b[0mresult\u001b[0m\u001b[1;33m)\u001b[0m\u001b[1;33m\u001b[0m\u001b[0m\n",
      "\u001b[1;32mC:\\Users\\SvyatV\\Anaconda2\\lib\\site-packages\\sklearn\\externals\\joblib\\_parallel_backends.pyc\u001b[0m in \u001b[0;36m__init__\u001b[1;34m(self, batch)\u001b[0m\n\u001b[0;32m    320\u001b[0m         \u001b[1;31m# Don't delay the application, to avoid keeping the input\u001b[0m\u001b[1;33m\u001b[0m\u001b[1;33m\u001b[0m\u001b[0m\n\u001b[0;32m    321\u001b[0m         \u001b[1;31m# arguments in memory\u001b[0m\u001b[1;33m\u001b[0m\u001b[1;33m\u001b[0m\u001b[0m\n\u001b[1;32m--> 322\u001b[1;33m         \u001b[0mself\u001b[0m\u001b[1;33m.\u001b[0m\u001b[0mresults\u001b[0m \u001b[1;33m=\u001b[0m \u001b[0mbatch\u001b[0m\u001b[1;33m(\u001b[0m\u001b[1;33m)\u001b[0m\u001b[1;33m\u001b[0m\u001b[0m\n\u001b[0m\u001b[0;32m    323\u001b[0m \u001b[1;33m\u001b[0m\u001b[0m\n\u001b[0;32m    324\u001b[0m     \u001b[1;32mdef\u001b[0m \u001b[0mget\u001b[0m\u001b[1;33m(\u001b[0m\u001b[0mself\u001b[0m\u001b[1;33m)\u001b[0m\u001b[1;33m:\u001b[0m\u001b[1;33m\u001b[0m\u001b[0m\n",
      "\u001b[1;32mC:\\Users\\SvyatV\\Anaconda2\\lib\\site-packages\\sklearn\\externals\\joblib\\parallel.pyc\u001b[0m in \u001b[0;36m__call__\u001b[1;34m(self)\u001b[0m\n\u001b[0;32m    129\u001b[0m \u001b[1;33m\u001b[0m\u001b[0m\n\u001b[0;32m    130\u001b[0m     \u001b[1;32mdef\u001b[0m \u001b[0m__call__\u001b[0m\u001b[1;33m(\u001b[0m\u001b[0mself\u001b[0m\u001b[1;33m)\u001b[0m\u001b[1;33m:\u001b[0m\u001b[1;33m\u001b[0m\u001b[0m\n\u001b[1;32m--> 131\u001b[1;33m         \u001b[1;32mreturn\u001b[0m \u001b[1;33m[\u001b[0m\u001b[0mfunc\u001b[0m\u001b[1;33m(\u001b[0m\u001b[1;33m*\u001b[0m\u001b[0margs\u001b[0m\u001b[1;33m,\u001b[0m \u001b[1;33m**\u001b[0m\u001b[0mkwargs\u001b[0m\u001b[1;33m)\u001b[0m \u001b[1;32mfor\u001b[0m \u001b[0mfunc\u001b[0m\u001b[1;33m,\u001b[0m \u001b[0margs\u001b[0m\u001b[1;33m,\u001b[0m \u001b[0mkwargs\u001b[0m \u001b[1;32min\u001b[0m \u001b[0mself\u001b[0m\u001b[1;33m.\u001b[0m\u001b[0mitems\u001b[0m\u001b[1;33m]\u001b[0m\u001b[1;33m\u001b[0m\u001b[0m\n\u001b[0m\u001b[0;32m    132\u001b[0m \u001b[1;33m\u001b[0m\u001b[0m\n\u001b[0;32m    133\u001b[0m     \u001b[1;32mdef\u001b[0m \u001b[0m__len__\u001b[0m\u001b[1;33m(\u001b[0m\u001b[0mself\u001b[0m\u001b[1;33m)\u001b[0m\u001b[1;33m:\u001b[0m\u001b[1;33m\u001b[0m\u001b[0m\n",
      "\u001b[1;32mC:\\Users\\SvyatV\\Anaconda2\\lib\\site-packages\\sklearn\\model_selection\\_validation.pyc\u001b[0m in \u001b[0;36m_fit_and_score\u001b[1;34m(estimator, X, y, scorer, train, test, verbose, parameters, fit_params, return_train_score, return_parameters, return_n_test_samples, return_times, error_score)\u001b[0m\n\u001b[0;32m    258\u001b[0m     \u001b[1;32melse\u001b[0m\u001b[1;33m:\u001b[0m\u001b[1;33m\u001b[0m\u001b[0m\n\u001b[0;32m    259\u001b[0m         \u001b[0mfit_time\u001b[0m \u001b[1;33m=\u001b[0m \u001b[0mtime\u001b[0m\u001b[1;33m.\u001b[0m\u001b[0mtime\u001b[0m\u001b[1;33m(\u001b[0m\u001b[1;33m)\u001b[0m \u001b[1;33m-\u001b[0m \u001b[0mstart_time\u001b[0m\u001b[1;33m\u001b[0m\u001b[0m\n\u001b[1;32m--> 260\u001b[1;33m         \u001b[0mtest_score\u001b[0m \u001b[1;33m=\u001b[0m \u001b[0m_score\u001b[0m\u001b[1;33m(\u001b[0m\u001b[0mestimator\u001b[0m\u001b[1;33m,\u001b[0m \u001b[0mX_test\u001b[0m\u001b[1;33m,\u001b[0m \u001b[0my_test\u001b[0m\u001b[1;33m,\u001b[0m \u001b[0mscorer\u001b[0m\u001b[1;33m)\u001b[0m\u001b[1;33m\u001b[0m\u001b[0m\n\u001b[0m\u001b[0;32m    261\u001b[0m         \u001b[0mscore_time\u001b[0m \u001b[1;33m=\u001b[0m \u001b[0mtime\u001b[0m\u001b[1;33m.\u001b[0m\u001b[0mtime\u001b[0m\u001b[1;33m(\u001b[0m\u001b[1;33m)\u001b[0m \u001b[1;33m-\u001b[0m \u001b[0mstart_time\u001b[0m \u001b[1;33m-\u001b[0m \u001b[0mfit_time\u001b[0m\u001b[1;33m\u001b[0m\u001b[0m\n\u001b[0;32m    262\u001b[0m         \u001b[1;32mif\u001b[0m \u001b[0mreturn_train_score\u001b[0m\u001b[1;33m:\u001b[0m\u001b[1;33m\u001b[0m\u001b[0m\n",
      "\u001b[1;32mC:\\Users\\SvyatV\\Anaconda2\\lib\\site-packages\\sklearn\\model_selection\\_validation.pyc\u001b[0m in \u001b[0;36m_score\u001b[1;34m(estimator, X_test, y_test, scorer)\u001b[0m\n\u001b[0;32m    283\u001b[0m     \u001b[1;34m\"\"\"Compute the score of an estimator on a given test set.\"\"\"\u001b[0m\u001b[1;33m\u001b[0m\u001b[0m\n\u001b[0;32m    284\u001b[0m     \u001b[1;32mif\u001b[0m \u001b[0my_test\u001b[0m \u001b[1;32mis\u001b[0m \u001b[0mNone\u001b[0m\u001b[1;33m:\u001b[0m\u001b[1;33m\u001b[0m\u001b[0m\n\u001b[1;32m--> 285\u001b[1;33m         \u001b[0mscore\u001b[0m \u001b[1;33m=\u001b[0m \u001b[0mscorer\u001b[0m\u001b[1;33m(\u001b[0m\u001b[0mestimator\u001b[0m\u001b[1;33m,\u001b[0m \u001b[0mX_test\u001b[0m\u001b[1;33m)\u001b[0m\u001b[1;33m\u001b[0m\u001b[0m\n\u001b[0m\u001b[0;32m    286\u001b[0m     \u001b[1;32melse\u001b[0m\u001b[1;33m:\u001b[0m\u001b[1;33m\u001b[0m\u001b[0m\n\u001b[0;32m    287\u001b[0m         \u001b[0mscore\u001b[0m \u001b[1;33m=\u001b[0m \u001b[0mscorer\u001b[0m\u001b[1;33m(\u001b[0m\u001b[0mestimator\u001b[0m\u001b[1;33m,\u001b[0m \u001b[0mX_test\u001b[0m\u001b[1;33m,\u001b[0m \u001b[0my_test\u001b[0m\u001b[1;33m)\u001b[0m\u001b[1;33m\u001b[0m\u001b[0m\n",
      "\u001b[1;31mTypeError\u001b[0m: __call__() takes at least 4 arguments (3 given)"
     ]
    }
   ],
   "source": [
    "# Use sklearn's CValidation method, k=2,3,4,5,6,7  (set params)\n",
    "# plot the Rsquared, or adjusted Rsquared estimate. elbow method, like in https://datasciencelab.wordpress.com/2013/12/27/finding-the-k-in-k-means-clustering/\n",
    "     #(  print sklearn.__version__             # updating from 0.17.1 to 0.18 )\n",
    "\n",
    "# sklearn CV, grid search http://scikit-learn.org/stable/tutorial/statistical_inference/model_selection.html\n",
    "\n",
    "\n",
    "params = {'n_clusters': [2,3,4,5,6,7]}\n",
    "model = sk.KMeans()\n",
    "\n",
    "calinski = make_scorer(calinski_harabaz_score)\n",
    "\n",
    "grid = GridSearchCV(estimator=model, param_grid=params, scoring=calinski) #scoring='adjusted_rand_score' didnt work\n",
    "# grid = GridSearchCV(estimator=sk.KMeans(), param_grid=params)      # also works\n",
    "\n",
    "grid.fit(X)\n",
    "\n",
    "\n",
    "# add scoring Rsquared               model evaluation, http://scikit-learn.org/stable/modules/model_evaluation.html#common-cases-predefined-values\n",
    "                               # Clustering,  adjusted_rand_score metrics.adjusted_rand_score\n",
    "\n",
    "                   # clustering evaluation http://scikit-learn.org/stable/modules/clustering.html#clustering-evaluation\n",
    "                      # adjusted_rand_score   --- for known 'truth' labels\n",
    "            \n",
    "                    # If the ground truth labels are not known, evaluation must be performed using the model itself. \n",
    "                    # The Silhouette Coefficient (sklearn.metrics.silhouette_score), or sklearn.metrics.calinski_harabaz_score\n",
    "    # *** make scorer:  calinski = make_scorer(calinski_harabaz_score), then scoring = calinski in GridSearch\n",
    "\n",
    "# error :__call__() takes at least 4 arguments (3 given).     don't have y_labels"
   ]
  },
  {
   "cell_type": "code",
   "execution_count": 26,
   "metadata": {
    "collapsed": false
   },
   "outputs": [
    {
     "data": {
      "text/plain": [
       "{'mean_fit_time': array([ 0.14666669,  0.19333331,  0.35333331,  0.49666667,  0.6266667 ,\n",
       "         0.6233333 ]),\n",
       " 'mean_score_time': array([ 0.,  0.,  0.,  0.,  0.,  0.]),\n",
       " 'mean_test_score': array([ -9.82777544e+08,  -7.51105694e+08,  -6.98219092e+08,\n",
       "         -6.44508302e+08,  -6.16905477e+08,  -5.59999265e+08]),\n",
       " 'mean_train_score': array([ -1.48401453e+09,  -1.03269342e+09,  -8.62870205e+08,\n",
       "         -7.47632382e+08,  -6.64262265e+08,  -5.98029158e+08]),\n",
       " 'param_n_clusters': masked_array(data = [2 3 4 5 6 7],\n",
       "              mask = [False False False False False False],\n",
       "        fill_value = ?),\n",
       " 'params': ({'n_clusters': 2},\n",
       "  {'n_clusters': 3},\n",
       "  {'n_clusters': 4},\n",
       "  {'n_clusters': 5},\n",
       "  {'n_clusters': 6},\n",
       "  {'n_clusters': 7}),\n",
       " 'rank_test_score': array([6, 5, 4, 3, 2, 1]),\n",
       " 'split0_test_score': array([ -9.25948010e+08,  -7.17545870e+08,  -6.59685027e+08,\n",
       "         -5.62975783e+08,  -5.24654260e+08,  -4.30881788e+08]),\n",
       " 'split0_train_score': array([ -1.55139422e+09,  -1.07494454e+09,  -9.10869621e+08,\n",
       "         -7.93131357e+08,  -7.05070766e+08,  -6.32298844e+08]),\n",
       " 'split1_test_score': array([ -7.19010687e+08,  -4.97845253e+08,  -4.72625054e+08,\n",
       "         -4.58178021e+08,  -4.41805704e+08,  -3.86852800e+08]),\n",
       " 'split1_train_score': array([ -1.65909194e+09,  -1.19153526e+09,  -9.97545550e+08,\n",
       "         -8.55277616e+08,  -7.47414360e+08,  -6.57058761e+08]),\n",
       " 'split2_test_score': array([ -1.30337394e+09,  -1.03792596e+09,  -9.62347196e+08,\n",
       "         -9.12371101e+08,  -8.84256468e+08,  -8.62263208e+08]),\n",
       " 'split2_train_score': array([ -1.24155743e+09,  -8.31600475e+08,  -6.80195444e+08,\n",
       "         -5.94488174e+08,  -5.40301668e+08,  -5.04729870e+08]),\n",
       " 'std_fit_time': array([ 0.00471398,  0.01247207,  0.0262466 ,  0.03299828,  0.03681794,\n",
       "         0.02494438]),\n",
       " 'std_score_time': array([ 0.,  0.,  0.,  0.,  0.,  0.]),\n",
       " 'std_test_score': array([  2.41926020e+08,   2.21760365e+08,   2.01776444e+08,\n",
       "          1.94179474e+08,   1.92047537e+08,   2.14487383e+08]),\n",
       " 'std_train_score': array([  1.76991116e+08,   1.49949169e+08,   1.33929659e+08,\n",
       "          1.11221703e+08,   8.93417303e+07,   6.67424465e+07])}"
      ]
     },
     "execution_count": 26,
     "metadata": {},
     "output_type": "execute_result"
    }
   ],
   "source": [
    "grid.cv_results_"
   ]
  },
  {
   "cell_type": "code",
   "execution_count": 38,
   "metadata": {
    "collapsed": false
   },
   "outputs": [
    {
     "name": "stdout",
     "output_type": "stream",
     "text": [
      "cluster size 2  score: 8869.18915459\n",
      "cluster size 3  score: 8156.18797181\n",
      "cluster size 4  score: 6779.00631115\n",
      "cluster size 5  score: 6229.57368893\n",
      "cluster size 6  score: 5819.71220916\n",
      "cluster size 7  score: 5663.21710889\n"
     ]
    }
   ],
   "source": [
    "##### use model estimation, cross validation may not be needed (don't have a train/test set split)\n",
    "from sklearn import metrics\n",
    "from sklearn.metrics import pairwise_distances\n",
    "\n",
    "for i in range(2,8) :        # loop thru cluster sizes range(2,8) start2, end8 (not included)\n",
    "    kmeans_model = sk.KMeans(n_clusters=i).fit(X)\n",
    "\n",
    "    labels = kmeans_model.labels_\n",
    "    print \"cluster size\", i, \" score:\", metrics.calinski_harabaz_score(X, labels) \n",
    "\n",
    "# cluster size of 2 has the highest score (2 was the guess of clusters i used initially)\n"
   ]
  },
  {
   "cell_type": "code",
   "execution_count": null,
   "metadata": {
    "collapsed": true
   },
   "outputs": [],
   "source": [
    "# upload to github"
   ]
  },
  {
   "cell_type": "code",
   "execution_count": null,
   "metadata": {
    "collapsed": true
   },
   "outputs": [],
   "source": []
  }
 ],
 "metadata": {
  "anaconda-cloud": {},
  "kernelspec": {
   "display_name": "Python [Root]",
   "language": "python",
   "name": "Python [Root]"
  },
  "language_info": {
   "codemirror_mode": {
    "name": "ipython",
    "version": 2
   },
   "file_extension": ".py",
   "mimetype": "text/x-python",
   "name": "python",
   "nbconvert_exporter": "python",
   "pygments_lexer": "ipython2",
   "version": "2.7.12"
  }
 },
 "nbformat": 4,
 "nbformat_minor": 0
}
